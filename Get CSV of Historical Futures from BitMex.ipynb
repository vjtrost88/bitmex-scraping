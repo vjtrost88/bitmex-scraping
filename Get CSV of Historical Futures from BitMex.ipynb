{
 "cells": [
  {
   "cell_type": "markdown",
   "metadata": {},
   "source": [
    "# How to Query an Open API the Right Way (without getting IP banned)\n",
    "\n",
    "How many times have you wanted to collect historical data but failed due to goofing things up with the API? Were you trying to scrape a site and got your IP blocked for making too many requests? Or did something happen you're not really sure about? Today I'm going to break down the right way to collect data from an API.\n",
    "\n",
    "### Collecting Historical Data\n",
    "\n",
    "Today we're going to be collecting data from a crypto exchange's API. I'm trying to build a dataset of historical trades on a particular crypto futures contract, but that's not really what's important. *I'm trying to build a large dataset from an API that I only have free access to*. That implies limitations...  \n",
    "\n",
    "### Considerations\n",
    "\n",
    "If it's a free API, that's very nice of them. But they're not THAT nice. You can't send a query for terabytes of data and expect them to give it to you no problem. They will, however, give you that data if you spread out your ask. If you keep your requests within the boundaries of their willingness to be generous, you can accumulate a decently sized dataset over time. Therein lies the tradeoff though -- you spend more time in exchange for free access.  \n",
    "In order to not get banned, we need to keep an eye on our rate limits. In other words, we need to make sure we aren't biting off more than they're willing to let us chew. We can be slow eaters and finish up the whole plate in due time for free, or in most cases we can pay up to scarf the whole thing down. \n",
    "\n",
    "###### Let's get started..."
   ]
  },
  {
   "cell_type": "code",
   "execution_count": 1,
   "metadata": {},
   "outputs": [
    {
     "name": "stdout",
     "output_type": "stream",
     "text": [
      "certifi==2020.6.20\r\n",
      "chardet==3.0.4\r\n",
      "datatable==0.11.0\r\n",
      "idna==2.10\r\n",
      "numpy==1.19.4\r\n",
      "pandas==1.1.4\r\n",
      "python-dateutil==2.8.1\r\n",
      "pytz==2020.4\r\n",
      "requests==2.24.0\r\n",
      "six==1.15.0\r\n",
      "urllib3==1.25.11\r\n"
     ]
    }
   ],
   "source": [
    "!pip freeze # these are just the packages I have installed for this task"
   ]
  },
  {
   "cell_type": "markdown",
   "metadata": {},
   "source": [
    "For this tutorial, I'm going to be leveraging a few packages -- `json`, `requests`, `time`, and `datatable`. I'll explain why we need each of those as we go."
   ]
  },
  {
   "cell_type": "markdown",
   "metadata": {},
   "source": [
    "The `requests` package contains functions that allow us to make HTTP requests to get data from a URL. The way this works is you make a \"GET\" request to *get* data from the API. That returns a \"response\" object that has a number of different attributes we want to leverage. "
   ]
  },
  {
   "cell_type": "code",
   "execution_count": 2,
   "metadata": {},
   "outputs": [],
   "source": [
    "import requests\n",
    "response = requests.get(\"https://www.bitmex.com/api/v1/trade?symbol=XBT%3Aperpetual&count=3&startTime=2020-11-03&endTime=2020-11-04\")"
   ]
  },
  {
   "cell_type": "markdown",
   "metadata": {},
   "source": [
    "Ok so let's break down that get request a bit:  \n",
    "I'm trying to get data from this site: \"https://www.bitmex.com/\"  \n",
    "Within their site structure, the added path leads to their API that has all the endpoints that will return data, making the url this: \"https://www.bitmex.com/api/v1/\". This is generally called the \"Base\" url.  \n",
    "Within their API, there are several different [endpoints](https://www.bitmex.com/api/explorer/#!/) but the one we want is the trade data, which further extends the URL to specify the \"trade\" endpoint: \"https://www.bitmex.com/api/v1/trade\"  \n",
    "Now, we need to get more specific with the trades we want. This is where all these extra arguments come in. You add the \"?\" to denote args are following, and specify them accordingly:  \n",
    "- symbol=\"XBT perpetual\"\n",
    "- count=10\n",
    "- startTime=2020-11-03\n",
    "- endTime=2020-11-04  \n",
    "\n",
    "Once we make this request using the `requests.get` command, we get a `response` object returned. **IF YOU DON'T WANT YOUR IP TO GET BANNED, PAY ATTENTION TO THE ATTRIBUTES OF THIS OBJECT**"
   ]
  },
  {
   "cell_type": "code",
   "execution_count": 3,
   "metadata": {},
   "outputs": [
    {
     "data": {
      "text/plain": [
       "['__attrs__',\n",
       " '__bool__',\n",
       " '__class__',\n",
       " '__delattr__',\n",
       " '__dict__',\n",
       " '__dir__',\n",
       " '__doc__',\n",
       " '__enter__',\n",
       " '__eq__',\n",
       " '__exit__',\n",
       " '__format__',\n",
       " '__ge__',\n",
       " '__getattribute__',\n",
       " '__getstate__',\n",
       " '__gt__',\n",
       " '__hash__',\n",
       " '__init__',\n",
       " '__init_subclass__',\n",
       " '__iter__',\n",
       " '__le__',\n",
       " '__lt__',\n",
       " '__module__',\n",
       " '__ne__',\n",
       " '__new__',\n",
       " '__nonzero__',\n",
       " '__reduce__',\n",
       " '__reduce_ex__',\n",
       " '__repr__',\n",
       " '__setattr__',\n",
       " '__setstate__',\n",
       " '__sizeof__',\n",
       " '__str__',\n",
       " '__subclasshook__',\n",
       " '__weakref__',\n",
       " '_content',\n",
       " '_content_consumed',\n",
       " '_next',\n",
       " 'apparent_encoding',\n",
       " 'close',\n",
       " 'connection',\n",
       " 'content',\n",
       " 'cookies',\n",
       " 'elapsed',\n",
       " 'encoding',\n",
       " 'headers',\n",
       " 'history',\n",
       " 'is_permanent_redirect',\n",
       " 'is_redirect',\n",
       " 'iter_content',\n",
       " 'iter_lines',\n",
       " 'json',\n",
       " 'links',\n",
       " 'next',\n",
       " 'ok',\n",
       " 'raise_for_status',\n",
       " 'raw',\n",
       " 'reason',\n",
       " 'request',\n",
       " 'status_code',\n",
       " 'text',\n",
       " 'url']"
      ]
     },
     "execution_count": 3,
     "metadata": {},
     "output_type": "execute_result"
    }
   ],
   "source": [
    "dir(response)"
   ]
  },
  {
   "cell_type": "markdown",
   "metadata": {},
   "source": [
    "The important ones to note are the ones that do **NOT** have underscores around them. When you make a request to an API, you're programmatically asking them for information. ***That can go a number of different ways***, but the way to check how it went is by printing the `response.status_code`"
   ]
  },
  {
   "cell_type": "code",
   "execution_count": 4,
   "metadata": {},
   "outputs": [
    {
     "data": {
      "text/plain": [
       "200"
      ]
     },
     "execution_count": 4,
     "metadata": {},
     "output_type": "execute_result"
    }
   ],
   "source": [
    "response.status_code"
   ]
  },
  {
   "cell_type": "markdown",
   "metadata": {},
   "source": [
    "Ok great, a status code of 200 means it was OK. If you get a different one and you don't know what it means, just print `response.reason` to get an idea why your \"programmatic ask\" didn't work. Ofc google it too if you want more information on what could have gone wrong. But it's going to be imperative to check this, because it will give us insight on what we need to do in order to *keep collecting data* but keep the hand that feeds us happy."
   ]
  },
  {
   "cell_type": "markdown",
   "metadata": {},
   "source": [
    "### Who Gives a Fuck, Show Me the CONTENT\n",
    "\n",
    "Right ok I get it you're here for the data, the last thing on your mind is making sure your IP doesn't get banned because you barely have any clue if you're querying things right. Ok, referencing that list of attributes in our response object again, we have a few options. `response.content` will show us what we have:"
   ]
  },
  {
   "cell_type": "code",
   "execution_count": 5,
   "metadata": {},
   "outputs": [
    {
     "data": {
      "text/plain": [
       "b'[{\"timestamp\":\"2020-11-03T00:00:02.662Z\",\"symbol\":\"XBTUSD\",\"side\":\"Buy\",\"size\":941,\"price\":13566,\"tickDirection\":\"ZeroMinusTick\",\"trdMatchID\":\"4ca550d5-27af-5bcd-9693-a7e2fb52565a\",\"grossValue\":6936111,\"homeNotional\":0.06936111,\"foreignNotional\":941},{\"timestamp\":\"2020-11-03T00:00:02.747Z\",\"symbol\":\"XBTUSD\",\"side\":\"Buy\",\"size\":7388,\"price\":13566,\"tickDirection\":\"ZeroMinusTick\",\"trdMatchID\":\"02a7438e-6ec5-868b-3ef4-36ea997ddabe\",\"grossValue\":54456948,\"homeNotional\":0.54456948,\"foreignNotional\":7388},{\"timestamp\":\"2020-11-03T00:00:02.747Z\",\"symbol\":\"XBTUSD\",\"side\":\"Buy\",\"size\":7759,\"price\":13566,\"tickDirection\":\"ZeroMinusTick\",\"trdMatchID\":\"e558886b-0f88-7106-1ab7-02717e79747d\",\"grossValue\":57191589,\"homeNotional\":0.57191589,\"foreignNotional\":7759}]'"
      ]
     },
     "execution_count": 5,
     "metadata": {},
     "output_type": "execute_result"
    }
   ],
   "source": [
    "response.content"
   ]
  },
  {
   "cell_type": "markdown",
   "metadata": {},
   "source": [
    "Nice, but that's one ugly mess of data. We can however, tell that is in JSON format because of the {\"key\":\"value\"} structure. **Most APIs will respond with data in this format**. That's cool and all but we're here to analyze data and I never learned how to analyze data in JSON format in my programming classes, only tables. So naturally, we're gonna get this data in a table.  \n",
    "\n",
    "**MAJOR KEY**: BitMex allows you to return data in CSV format by adding `&_format=csv` to the end of your URL!!!! This is HUGE because `datatable` allows you to read csv's from URLs"
   ]
  },
  {
   "cell_type": "code",
   "execution_count": 6,
   "metadata": {
    "scrolled": true
   },
   "outputs": [
    {
     "data": {
      "text/html": [
       "<style type='text/css'>\n",
       ".datatable table.frame { margin-bottom: 0; }\n",
       ".datatable table.frame thead { border-bottom: none; }\n",
       ".datatable table.frame tr.coltypes td {  color: #FFFFFF;  line-height: 6px;  padding: 0 0.5em;}\n",
       ".datatable .bool { background: #DDDD99; }\n",
       ".datatable .obj  { background: #565656; }\n",
       ".datatable .int  { background: #5D9E5D; }\n",
       ".datatable .real { background: #4040CC; }\n",
       ".datatable .str  { background: #CC4040; }\n",
       ".datatable .row_index {  background: var(--jp-border-color3);  border-right: 1px solid var(--jp-border-color0);  color: var(--jp-ui-font-color3);  font-size: 9px;}\n",
       ".datatable .frame tr.coltypes .row_index {  background: var(--jp-border-color0);}\n",
       ".datatable th:nth-child(2) { padding-left: 12px; }\n",
       ".datatable .hellipsis {  color: var(--jp-cell-editor-border-color);}\n",
       ".datatable .vellipsis {  background: var(--jp-layout-color0);  color: var(--jp-cell-editor-border-color);}\n",
       ".datatable .na {  color: var(--jp-cell-editor-border-color);  font-size: 80%;}\n",
       ".datatable .footer { font-size: 9px; }\n",
       ".datatable .frame_dimensions {  background: var(--jp-border-color3);  border-top: 1px solid var(--jp-border-color0);  color: var(--jp-ui-font-color3);  display: inline-block;  opacity: 0.6;  padding: 1px 10px 1px 5px;}\n",
       "</style>\n",
       "<div class='datatable'>\n",
       "  <table class='frame'>\n",
       "  <thead>\n",
       "    <tr class='colnames'><td class='row_index'></td><th>timestamp</th><th>symbol</th><th>side</th><th>size</th><th>price</th><th>tickDirection</th><th>trdMatchID</th><th>grossValue</th><th>homeNotional</th><th>foreignNotional</th></tr>\n",
       "    <tr class='coltypes'><td class='row_index'></td><td class='str' title='str32'>&#x25AA;&#x25AA;&#x25AA;&#x25AA;</td><td class='str' title='str32'>&#x25AA;&#x25AA;&#x25AA;&#x25AA;</td><td class='str' title='str32'>&#x25AA;&#x25AA;&#x25AA;&#x25AA;</td><td class='int' title='int32'>&#x25AA;&#x25AA;&#x25AA;&#x25AA;</td><td class='int' title='int32'>&#x25AA;&#x25AA;&#x25AA;&#x25AA;</td><td class='str' title='str32'>&#x25AA;&#x25AA;&#x25AA;&#x25AA;</td><td class='str' title='str32'>&#x25AA;&#x25AA;&#x25AA;&#x25AA;</td><td class='int' title='int32'>&#x25AA;&#x25AA;&#x25AA;&#x25AA;</td><td class='real' title='float64'>&#x25AA;&#x25AA;&#x25AA;&#x25AA;&#x25AA;&#x25AA;&#x25AA;&#x25AA;</td><td class='int' title='int32'>&#x25AA;&#x25AA;&#x25AA;&#x25AA;</td></tr>\n",
       "  </thead>\n",
       "  <tbody>\n",
       "    <tr><td class='row_index'>0</td><td>2020-11-03T00:00:02.662Z</td><td>XBTUSD</td><td>Buy</td><td>941</td><td>13566</td><td>ZeroMinusTick</td><td>4ca550d5-27af-5bcd-9693-a7e2fb52565a</td><td>6936111</td><td>0.0693611</td><td>941</td></tr>\n",
       "    <tr><td class='row_index'>1</td><td>2020-11-03T00:00:02.747Z</td><td>XBTUSD</td><td>Buy</td><td>7388</td><td>13566</td><td>ZeroMinusTick</td><td>02a7438e-6ec5-868b-3ef4-36ea997ddabe</td><td>54456948</td><td>0.544569</td><td>7388</td></tr>\n",
       "    <tr><td class='row_index'>2</td><td>2020-11-03T00:00:02.747Z</td><td>XBTUSD</td><td>Buy</td><td>7759</td><td>13566</td><td>ZeroMinusTick</td><td>e558886b-0f88-7106-1ab7-02717e79747d</td><td>57191589</td><td>0.571916</td><td>7759</td></tr>\n",
       "  </tbody>\n",
       "  </table>\n",
       "  <div class='footer'>\n",
       "    <div class='frame_dimensions'>3 rows &times; 10 columns</div>\n",
       "  </div>\n",
       "</div>\n"
      ],
      "text/plain": []
     },
     "execution_count": 6,
     "metadata": {},
     "output_type": "execute_result"
    }
   ],
   "source": [
    "import datatable as dt\n",
    "dat = dt.fread(\"https://www.bitmex.com/api/v1/trade?symbol=XBT%3Aperpetual&count=3&startTime=2020-11-03&endTime=2020-11-04&_format=csv\")\n",
    "dat"
   ]
  },
  {
   "cell_type": "markdown",
   "metadata": {},
   "source": [
    "Ok so now that we have proven we can get data on a single request and get it into a table, things start to get tricky. We want to get way more data than this. Like way more. But we can only get so much at a time. Let's try to get 10k records from the API -- we'll do this by pumping up that `count` parameter in the URL from 3 to 10,000."
   ]
  },
  {
   "cell_type": "code",
   "execution_count": 7,
   "metadata": {},
   "outputs": [],
   "source": [
    "r = requests.get(\"https://www.bitmex.com/api/v1/trade?symbol=XBT%3Aperpetual&count=10000&startTime=2020-11-03&endTime=2020-11-04&_format=csv\")"
   ]
  },
  {
   "cell_type": "markdown",
   "metadata": {},
   "source": [
    "Let's see if that worked:"
   ]
  },
  {
   "cell_type": "code",
   "execution_count": 8,
   "metadata": {},
   "outputs": [
    {
     "data": {
      "text/plain": [
       "400"
      ]
     },
     "execution_count": 8,
     "metadata": {},
     "output_type": "execute_result"
    }
   ],
   "source": [
    "r.status_code"
   ]
  },
  {
   "cell_type": "markdown",
   "metadata": {},
   "source": [
    "Uh oh. 400 means... what?"
   ]
  },
  {
   "cell_type": "code",
   "execution_count": 9,
   "metadata": {},
   "outputs": [
    {
     "data": {
      "text/plain": [
       "'Bad Request'"
      ]
     },
     "execution_count": 9,
     "metadata": {},
     "output_type": "execute_result"
    }
   ],
   "source": [
    "r.reason"
   ]
  },
  {
   "cell_type": "markdown",
   "metadata": {},
   "source": [
    "OOhhh ok it was a bad request? Fucking how?"
   ]
  },
  {
   "cell_type": "code",
   "execution_count": 10,
   "metadata": {},
   "outputs": [
    {
     "data": {
      "text/plain": [
       "b'{\"error\":{\"message\":\"Maximum result count is 1000. Please use the start & count params to paginate.\",\"name\":\"HTTPError\"}}'"
      ]
     },
     "execution_count": 10,
     "metadata": {},
     "output_type": "execute_result"
    }
   ],
   "source": [
    "r.content"
   ]
  },
  {
   "cell_type": "markdown",
   "metadata": {},
   "source": [
    "... maximum count is 1000. Makes sense. Can't take too big of a bite for free. They also say to use the start and count params to paginate, meaning those are the ways to make sure you're getting successive chunks of data. See, this is where it gets tricky. We can do that by making a while loop and not falsifying the condition it's running on until we've gotten all our data, which would presumably be the first query we see that has less than 1000 (the max) records. "
   ]
  },
  {
   "cell_type": "markdown",
   "metadata": {},
   "source": [
    "This is not going to work though. Can you guess why? If you just are constantly requesting, the website is going to get pissed at you for annoying them. It's like a kid asking a parent if \"we're there yet\" every 5 minutes on an 8 hour road trip. Like shut the fuck up. \"We'll get there, WHEN WE GET THERE!\" (name that movie). Ok seriously though you can't make too many requests in a certain time period (usually a minute). Most API documentations will have [this](https://www.bitmex.com/app/restAPI#Limits) section in their docs somewhere. It's all about limiting. There were a few big important things to note here:\n",
    "1. The rate limit for free users is 30 requests per minute  \n",
    "They let you know where you are in your rate limit with the 3 following headers (found in `r.headers`):\n",
    "```\n",
    "\"x-ratelimit-limit\": 60\n",
    "\"x-ratelimit-remaining\": 58\n",
    "\"x-ratelimit-reset\": 1489791662\n",
    "```\n",
    "Which is nice as fuck and we need to use them. That way, we can know that when the remaining hits 0, we can send the \"x-ratelimit-reset\" value straight to our sleep function to make sure we ask EXACTLY when we're allowed to again, wasting NO time.  \n",
    "\n",
    "The NEXT thing to worry about is making sure you're asking for different stuff every time. You don't wanna ask for the same data over and over again, you need to ask for the next chunk of data to build your dataset. How do we do this? There are some different parameters we're able to include in the trade call, and even some other enpoints to hit that give us information about how much we should expect to get.  \n",
    "\n",
    "The \"start\" argument to the `trade` endpoint denotes which trade to start on within your timeframe.\n",
    "If we say we want to start on Jan 1, 2020 and get data up to Nov 4, 2020 -- it's going to give us the first 1k of ALL OF THOSE trades. What we'd have to do then is use the \"start\" argument to say \"ok you gave me the first 1000, give me the next 1000 but start at trade 2000 this time\". My worry is this is going to balloon into a MASSIVE integer, so it might be better to do the following:\n",
    "\n",
    "The `trade/bucketed` endpoint gives information about how many trades were placed in a given time frame. Use that endpoint to get information about how many trades were placed ***per minute***. That way you can use the startTime as 2020-01-01 00:00:00.001 and the endTime as 2020-01-01 00:01:00 for example and use the \"trades\" field to inform your \"start\" arg to the `trade` endpoint. There will likely be more than 1000 trades placed per minute during most minutes of the day, but this will keep the number we use for the \"start\" arg down. Let's see that in action:"
   ]
  },
  {
   "cell_type": "code",
   "execution_count": 11,
   "metadata": {},
   "outputs": [],
   "source": [
    "r1 = requests.get(\"https://www.bitmex.com/api/v1/trade/bucketed?binSize=1m&partial=false&symbol=XBT%3Aperpetual&count=1&reverse=false&startTime=2020-01-01T00%3A00%3A00.001Z&endTime=2020-01-01T00:01:00\")"
   ]
  },
  {
   "cell_type": "code",
   "execution_count": 12,
   "metadata": {},
   "outputs": [
    {
     "data": {
      "text/plain": [
       "[{'timestamp': '2020-01-01T00:01:00.000Z',\n",
       "  'symbol': 'XBTUSD',\n",
       "  'open': 7163,\n",
       "  'high': 7163,\n",
       "  'low': 7156,\n",
       "  'close': 7156,\n",
       "  'trades': 2418,\n",
       "  'volume': 2237930,\n",
       "  'vwap': 7159.7337,\n",
       "  'lastSize': 5,\n",
       "  'turnover': 31258718411,\n",
       "  'homeNotional': 312.58718410999995,\n",
       "  'foreignNotional': 2237930}]"
      ]
     },
     "execution_count": 12,
     "metadata": {},
     "output_type": "execute_result"
    }
   ],
   "source": [
    "r1.json()"
   ]
  },
  {
   "cell_type": "markdown",
   "metadata": {},
   "source": [
    "Ok so this is great. we know that in the first minute of 2020, there were 24 trades. We can use that trades object to control the start param for the `trade` endpoint."
   ]
  },
  {
   "cell_type": "code",
   "execution_count": 13,
   "metadata": {},
   "outputs": [
    {
     "data": {
      "text/plain": [
       "2418"
      ]
     },
     "execution_count": 13,
     "metadata": {},
     "output_type": "execute_result"
    }
   ],
   "source": [
    "r1.json()[0]['trades']"
   ]
  },
  {
   "cell_type": "markdown",
   "metadata": {},
   "source": [
    "So I'm going to skip ahead to the end and try to comment well why I'm doing what I'm doing, but the high level intuition lies in the analogy: You're a hungry kid and momma made pie. She's willing to give you some but you didn't pay her for the pie, so how much she gives you is beholden to her. You need to learn her rules for giving poor ass kids like you free pie so you can maximize the amount of pie you get without pissing her off. You need to make sure you ask her for different slices of the pie, only ask her for your alotted amount of pie at the exact frequency she allows, and to not ask for too much too often -- otherwise you will lose your privilege for free pie and go hungry."
   ]
  },
  {
   "cell_type": "code",
   "execution_count": null,
   "metadata": {},
   "outputs": [],
   "source": [
    "# the final loop\n",
    "\n",
    "import time    # need this for sleeping and comparing timestamps\n",
    "import os      # need this for checking if a file exists\n",
    "from pathlib import Path  # same as above\n",
    "import sys\n",
    "\n",
    "start_time = '2020-01-01 00:00:00'\n",
    "end_time = '2020-11-04 23:59:00'\n",
    "trade_url = 'https://www.bitmex.com/api/v1/trade'\n",
    "symbol = 'XBT:perpetual'\n",
    "fname = Path('XBT_2020-01-01_2020-11-04.csv')\n",
    "\n",
    "# go until timestamp meets end_time\n",
    "while progress != end_time:\n",
    "    \n",
    "    r = requests.get(f\"{trade_url}?symbol={symbol}&count=10000&startTime={start_time}&endTime=2020-11-04\")\n",
    "    try:\n",
    "        # check the headers to find out where we're at in our asking\n",
    "        remaining = r.headers['x-ratelimit-remaining']\n",
    "        print(f\"Requests remaining: {remaining}\")\n",
    "    except:\n",
    "        print(r.status_code)\n",
    "        print(r.reason)\n",
    "        sys.exit()\n",
    "    \n",
    "    \n",
    "    if remaining == '0':\n",
    "        # sleep till rate limit resets\n",
    "        print(\"Exceeded rate limit. Going to wait NOW.\")\n",
    "        while time.time() > float(r.headers['x-ratelimit-reset']):   # note this is in unix timestamps\n",
    "            time.sleep(0.25) # quarter second\n",
    "            print(\"Waiting...\")\n",
    "        continue\n",
    "        \n",
    "    start_time = \n",
    "    print(f\"New Start Time: {start_time}\")\n",
    "    \n",
    "    temp = dt.Frame(r.json())\n",
    "    \n",
    "    # if the file exists, append it. If not, write outright\n",
    "    if fname.is_file():\n",
    "        temp.to_csv(fname, append=True)    # if append=True, headers are not included (nice)\n",
    "    else:\n",
    "        temp.to_csv(fname)\n",
    "    "
   ]
  },
  {
   "cell_type": "code",
   "execution_count": null,
   "metadata": {},
   "outputs": [],
   "source": [
    "start_time = '2020-01-01 00:00:29.869000'\n",
    "trade_url = 'https://www.bitmex.com/api/v1/trade'\n",
    "symbol = 'XBT:perpetual'\n",
    "r = requests.get(f\"{trade_url}?symbol={symbol}&count=1&startTime={start_time}&endTime=2020-11-04\")"
   ]
  },
  {
   "cell_type": "code",
   "execution_count": null,
   "metadata": {},
   "outputs": [],
   "source": [
    "r.json()"
   ]
  },
  {
   "cell_type": "code",
   "execution_count": null,
   "metadata": {},
   "outputs": [],
   "source": [
    "time.time() - float(r.headers['x-ratelimit-reset'])"
   ]
  },
  {
   "cell_type": "markdown",
   "metadata": {},
   "source": [
    "### MAYBE LEARN\n",
    "\n",
    "The \"start\" argument to the trade endpoint denotes which trade to start on within your timeframe\n",
    "If we say we want to start on Jan 1, 2020 and go until Nov 4, 2020 -- it's going to give us the first 1k of ALL OF THOSE trades. What we'd have to do then is use the \"start\" argument to say \"ok you gave me the first 1000, give me the next 1000 but start at trade 2000 this time\". My worry is this is going to balloon into a MASSIVE integer, so it might be better to do the following:\n",
    "\n",
    "Use the `trade/bucketed` endpoint to get information about how many trades were placed per minute. That way you can use the startTime as 2020-01-01 00:00:00 and the endTime as 2020-01-01 00:01:00 and use the \"trades\" field to inform your \"start\" arg to the `trade` endpoint\n",
    "\n"
   ]
  },
  {
   "cell_type": "code",
   "execution_count": null,
   "metadata": {},
   "outputs": [],
   "source": [
    "import datetime\n",
    "help(datetime.datetime)\n",
    "start_time"
   ]
  },
  {
   "cell_type": "code",
   "execution_count": 35,
   "metadata": {},
   "outputs": [],
   "source": [
    "import datetime\n",
    "start_time = '2020-01-01 00:00:00'\n",
    "end_time = '2020-11-04 23:59:00'\n",
    "\n",
    "start = datetime.datetime.strptime(start_time, \"%Y-%m-%d %H:%M:%S\")\n",
    "end = datetime.datetime.strptime(end_time, \"%Y-%m-%d %H:%M:%S\")"
   ]
  },
  {
   "cell_type": "code",
   "execution_count": null,
   "metadata": {},
   "outputs": [],
   "source": [
    "import datetime\n",
    "delta = start + datetime.timedelta(minutes=1)\n",
    "delta.strftime(\"%Y-%m-%d %H:%M:%S\")"
   ]
  },
  {
   "cell_type": "code",
   "execution_count": null,
   "metadata": {},
   "outputs": [],
   "source": [
    "end_time == \"2020-11-04 23:59:00\""
   ]
  },
  {
   "cell_type": "code",
   "execution_count": 33,
   "metadata": {},
   "outputs": [],
   "source": [
    "start_time = '2020-01-01 00:00:00'\n",
    "end_time = '2020-01-01 00:00:00'"
   ]
  },
  {
   "cell_type": "code",
   "execution_count": 36,
   "metadata": {},
   "outputs": [
    {
     "data": {
      "text/plain": [
       "datetime.datetime(2020, 1, 1, 0, 0, 0, 1000)"
      ]
     },
     "execution_count": 36,
     "metadata": {},
     "output_type": "execute_result"
    }
   ],
   "source": [
    "start = start + datetime.timedelta(milliseconds=1)\n",
    "start"
   ]
  },
  {
   "cell_type": "code",
   "execution_count": 37,
   "metadata": {},
   "outputs": [
    {
     "data": {
      "text/plain": [
       "'2020-01-01 00:00:00.001000'"
      ]
     },
     "execution_count": 37,
     "metadata": {},
     "output_type": "execute_result"
    }
   ],
   "source": [
    "start = start.strftime(\"%Y-%m-%d %H:%M:%S.%f\")\n",
    "start"
   ]
  },
  {
   "cell_type": "code",
   "execution_count": null,
   "metadata": {},
   "outputs": [],
   "source": [
    "#num_trades = r1.json()[0]['trades']\n",
    "num_trades = 2418\n",
    "pages = num_trades // 1000"
   ]
  },
  {
   "cell_type": "code",
   "execution_count": null,
   "metadata": {},
   "outputs": [],
   "source": [
    "for i in range(pages):\n",
    "    print(i)"
   ]
  },
  {
   "cell_type": "code",
   "execution_count": null,
   "metadata": {},
   "outputs": [],
   "source": [
    "r.status_code == 400"
   ]
  },
  {
   "cell_type": "code",
   "execution_count": null,
   "metadata": {},
   "outputs": [],
   "source": [
    "ar = requests.get(\"https://www.bitmex.com/api/v1/trade?symbol=XBT%3Aperpetual&count=1000&startTime=2020-01-01T00:00:00&endTime=2020-01-01T00:01:00&_format=csv\")"
   ]
  },
  {
   "cell_type": "code",
   "execution_count": null,
   "metadata": {},
   "outputs": [],
   "source": [
    "ar.reason"
   ]
  },
  {
   "cell_type": "code",
   "execution_count": null,
   "metadata": {},
   "outputs": [],
   "source": [
    "test = dt.Frame(ar.content)"
   ]
  },
  {
   "cell_type": "code",
   "execution_count": null,
   "metadata": {},
   "outputs": [],
   "source": [
    "test = dt.fread(\"https://www.bitmex.com/api/v1/trade?symbol=XBT%3Aperpetual&count=1000&startTime=2020-01-01T00:00:00&endTime=2020-01-01T00:01:00&_format=csv\")"
   ]
  },
  {
   "cell_type": "code",
   "execution_count": null,
   "metadata": {},
   "outputs": [],
   "source": [
    "test"
   ]
  },
  {
   "cell_type": "code",
   "execution_count": null,
   "metadata": {},
   "outputs": [],
   "source": [
    "ar.status_code"
   ]
  },
  {
   "cell_type": "code",
   "execution_count": 26,
   "metadata": {},
   "outputs": [],
   "source": [
    "r = requests.head(\"https://www.bitmex.com/api/v1/trade?symbol=XBT%3Aperpetual&count=10000&startTime=2020-11-03&endTime=2020-11-04&_format=csv\")"
   ]
  },
  {
   "cell_type": "code",
   "execution_count": 27,
   "metadata": {},
   "outputs": [
    {
     "data": {
      "text/plain": [
       "{'Date': 'Mon, 09 Nov 2020 19:51:43 GMT', 'Content-Type': 'application/json; charset=utf-8', 'Content-Length': '121', 'Connection': 'keep-alive', 'Set-Cookie': 'AWSALBTG=4syji18ROVnyYW87Sm95YDcyQP26IyHwWpYYQo9qeu/TQkpxlFPLf+I2xG6KZlc9vGHolfCNI2xnxKKv3XkjHU+ruc2++FVeWHKFHEj/MUhlRvVPX45+zHSYTC35WTEbxSdWUqn7X0oCoS1kJYfJPW3RgWmTjl7kpR4FwlihDovt; Expires=Mon, 16 Nov 2020 19:51:43 GMT; Path=/, AWSALBTGCORS=4syji18ROVnyYW87Sm95YDcyQP26IyHwWpYYQo9qeu/TQkpxlFPLf+I2xG6KZlc9vGHolfCNI2xnxKKv3XkjHU+ruc2++FVeWHKFHEj/MUhlRvVPX45+zHSYTC35WTEbxSdWUqn7X0oCoS1kJYfJPW3RgWmTjl7kpR4FwlihDovt; Expires=Mon, 16 Nov 2020 19:51:43 GMT; Path=/; SameSite=None; Secure', 'x-ratelimit-limit': '30', 'x-ratelimit-remaining': '29', 'x-ratelimit-reset': '1604951504', 'X-Powered-By': 'Profit', 'Etag': 'W/\"79-D7kVCDY55rXBYFyf/xbzGHQFn5E\"', 'Strict-Transport-Security': 'max-age=31536000; includeSubDomains'}"
      ]
     },
     "execution_count": 27,
     "metadata": {},
     "output_type": "execute_result"
    }
   ],
   "source": [
    "r.headers"
   ]
  },
  {
   "cell_type": "code",
   "execution_count": 28,
   "metadata": {},
   "outputs": [
    {
     "data": {
      "text/plain": [
       "'https://www.bitmex.com/api/v1/trade?symbol=XBT%3Aperpetual&count=10000&startTime=2020-11-03&endTime=2020-11-04&_format=csv'"
      ]
     },
     "execution_count": 28,
     "metadata": {},
     "output_type": "execute_result"
    }
   ],
   "source": [
    "r.url"
   ]
  },
  {
   "cell_type": "code",
   "execution_count": 15,
   "metadata": {},
   "outputs": [
    {
     "ename": "TypeError",
     "evalue": "Cannot create Frame from <class 'bytes'>",
     "output_type": "error",
     "traceback": [
      "\u001b[0;31m---------------------------------------------------------------------------\u001b[0m",
      "\u001b[0;31mTypeError\u001b[0m                                 Traceback (most recent call last)",
      "\u001b[0;32m<ipython-input-15-3f63de274f0e>\u001b[0m in \u001b[0;36m<module>\u001b[0;34m\u001b[0m\n\u001b[0;32m----> 1\u001b[0;31m \u001b[0md\u001b[0m \u001b[0;34m=\u001b[0m \u001b[0mdt\u001b[0m\u001b[0;34m.\u001b[0m\u001b[0mFrame\u001b[0m\u001b[0;34m(\u001b[0m\u001b[0mr\u001b[0m\u001b[0;34m.\u001b[0m\u001b[0mcontent\u001b[0m\u001b[0;34m)\u001b[0m\u001b[0;34m\u001b[0m\u001b[0;34m\u001b[0m\u001b[0m\n\u001b[0m",
      "\u001b[0;31mTypeError\u001b[0m: Cannot create Frame from <class 'bytes'>"
     ]
    }
   ],
   "source": [
    "d = dt.Frame()"
   ]
  },
  {
   "cell_type": "code",
   "execution_count": 16,
   "metadata": {},
   "outputs": [
    {
     "ename": "NameError",
     "evalue": "name 'start_time' is not defined",
     "output_type": "error",
     "traceback": [
      "\u001b[0;31m---------------------------------------------------------------------------\u001b[0m",
      "\u001b[0;31mNameError\u001b[0m                                 Traceback (most recent call last)",
      "\u001b[0;32m<ipython-input-16-abfc1fc82525>\u001b[0m in \u001b[0;36m<module>\u001b[0;34m\u001b[0m\n\u001b[0;32m----> 1\u001b[0;31m \u001b[0mstart_time\u001b[0m\u001b[0;34m\u001b[0m\u001b[0;34m\u001b[0m\u001b[0m\n\u001b[0m",
      "\u001b[0;31mNameError\u001b[0m: name 'start_time' is not defined"
     ]
    }
   ],
   "source": [
    "start_time"
   ]
  },
  {
   "cell_type": "code",
   "execution_count": 40,
   "metadata": {},
   "outputs": [
    {
     "data": {
      "text/html": [
       "<div class='datatable'>\n",
       "  <table class='frame'>\n",
       "  <thead>\n",
       "    <tr class='colnames'><td class='row_index'></td><th>timestamp</th><th>symbol</th><th>side</th><th>size</th><th>price</th><th>tickDirection</th><th>trdMatchID</th><th>grossValue</th><th>homeNotional</th><th>foreignNotional</th></tr>\n",
       "    <tr class='coltypes'><td class='row_index'></td><td class='str' title='str32'>&#x25AA;&#x25AA;&#x25AA;&#x25AA;</td><td class='str' title='str32'>&#x25AA;&#x25AA;&#x25AA;&#x25AA;</td><td class='str' title='str32'>&#x25AA;&#x25AA;&#x25AA;&#x25AA;</td><td class='int' title='int32'>&#x25AA;&#x25AA;&#x25AA;&#x25AA;</td><td class='real' title='float64'>&#x25AA;&#x25AA;&#x25AA;&#x25AA;&#x25AA;&#x25AA;&#x25AA;&#x25AA;</td><td class='str' title='str32'>&#x25AA;&#x25AA;&#x25AA;&#x25AA;</td><td class='str' title='str32'>&#x25AA;&#x25AA;&#x25AA;&#x25AA;</td><td class='int' title='int32'>&#x25AA;&#x25AA;&#x25AA;&#x25AA;</td><td class='real' title='float64'>&#x25AA;&#x25AA;&#x25AA;&#x25AA;&#x25AA;&#x25AA;&#x25AA;&#x25AA;</td><td class='int' title='int32'>&#x25AA;&#x25AA;&#x25AA;&#x25AA;</td></tr>\n",
       "  </thead>\n",
       "  <tbody>\n",
       "    <tr><td class='row_index'>0</td><td>2020-01-01T00:00:29.869Z</td><td>XBTUSD</td><td>Sell</td><td>33</td><td>7161.5</td><td>ZeroMinusTick</td><td>df09a11b-261d-14ec-9682-c923e1da9d42</td><td>460812</td><td>0.00460812</td><td>33</td></tr>\n",
       "    <tr><td class='row_index'>1</td><td>2020-01-01T00:00:29.869Z</td><td>XBTUSD</td><td>Sell</td><td>26</td><td>7161.5</td><td>ZeroMinusTick</td><td>2d1095b6-2e98-b0d8-d126-2e471c711a8c</td><td>363064</td><td>0.00363064</td><td>26</td></tr>\n",
       "    <tr><td class='row_index'>2</td><td>2020-01-01T00:00:29.869Z</td><td>XBTUSD</td><td>Sell</td><td>33</td><td>7161.5</td><td>ZeroMinusTick</td><td>690bd13e-e165-c1a2-725f-98749b1b27ae</td><td>460812</td><td>0.00460812</td><td>33</td></tr>\n",
       "    <tr><td class='row_index'>3</td><td>2020-01-01T00:00:29.869Z</td><td>XBTUSD</td><td>Sell</td><td>23</td><td>7161.5</td><td>ZeroMinusTick</td><td>a71cc49f-c5a5-a129-6eb3-29fde7534cfd</td><td>321172</td><td>0.00321172</td><td>23</td></tr>\n",
       "    <tr><td class='row_index'>4</td><td>2020-01-01T00:00:29.869Z</td><td>XBTUSD</td><td>Sell</td><td>28</td><td>7161.5</td><td>ZeroMinusTick</td><td>7893fa32-8bfc-6d17-f015-77085dc00676</td><td>390992</td><td>0.00390992</td><td>28</td></tr>\n",
       "    <tr><td class='row_index'>5</td><td>2020-01-01T00:00:29.869Z</td><td>XBTUSD</td><td>Sell</td><td>23</td><td>7161.5</td><td>ZeroMinusTick</td><td>16913ccd-b58f-2f30-698e-0da7485e83ef</td><td>321172</td><td>0.00321172</td><td>23</td></tr>\n",
       "    <tr><td class='row_index'>6</td><td>2020-01-01T00:00:29.869Z</td><td>XBTUSD</td><td>Sell</td><td>32</td><td>7161.5</td><td>ZeroMinusTick</td><td>9d4df64a-f548-02a6-e1df-1b615990b861</td><td>446848</td><td>0.00446848</td><td>32</td></tr>\n",
       "    <tr><td class='row_index'>7</td><td>2020-01-01T00:00:29.869Z</td><td>XBTUSD</td><td>Sell</td><td>28</td><td>7161.5</td><td>ZeroMinusTick</td><td>4daf3fcb-b5fd-f603-b5f6-8d723edc114e</td><td>390992</td><td>0.00390992</td><td>28</td></tr>\n",
       "    <tr><td class='row_index'>8</td><td>2020-01-01T00:00:29.869Z</td><td>XBTUSD</td><td>Sell</td><td>25</td><td>7161.5</td><td>ZeroMinusTick</td><td>220b97d5-1e03-f8b6-6f30-34048b7d8b60</td><td>349100</td><td>0.003491</td><td>25</td></tr>\n",
       "    <tr><td class='row_index'>9</td><td>2020-01-01T00:00:29.869Z</td><td>XBTUSD</td><td>Sell</td><td>26</td><td>7161.5</td><td>ZeroMinusTick</td><td>bd4a62cb-8b2b-a7c1-f7b1-39d025339ee4</td><td>363064</td><td>0.00363064</td><td>26</td></tr>\n",
       "    <tr><td class='row_index'>&#x22EE;</td><td class='hellipsis'>&#x22EE;</td><td class='hellipsis'>&#x22EE;</td><td class='hellipsis'>&#x22EE;</td><td class='hellipsis'>&#x22EE;</td><td class='hellipsis'>&#x22EE;</td><td class='hellipsis'>&#x22EE;</td><td class='hellipsis'>&#x22EE;</td><td class='hellipsis'>&#x22EE;</td><td class='hellipsis'>&#x22EE;</td><td class='hellipsis'>&#x22EE;</td></tr>\n",
       "    <tr><td class='row_index'>995</td><td>2020-01-01T00:00:32.842Z</td><td>XBTUSD</td><td>Sell</td><td>1000</td><td>7159.5</td><td>ZeroMinusTick</td><td>908ed651-9a31-f538-48c3-a75a1fc4a03e</td><td>13967000</td><td>0.13967</td><td>1000</td></tr>\n",
       "    <tr><td class='row_index'>996</td><td>2020-01-01T00:00:32.842Z</td><td>XBTUSD</td><td>Sell</td><td>1000</td><td>7159.5</td><td>ZeroMinusTick</td><td>52f9c3e2-7d8b-4ed5-8a09-e8dc70dd7b93</td><td>13967000</td><td>0.13967</td><td>1000</td></tr>\n",
       "    <tr><td class='row_index'>997</td><td>2020-01-01T00:00:32.842Z</td><td>XBTUSD</td><td>Sell</td><td>1000</td><td>7159.5</td><td>ZeroMinusTick</td><td>9ed5102a-3132-c293-fc4f-4cd289f48554</td><td>13967000</td><td>0.13967</td><td>1000</td></tr>\n",
       "    <tr><td class='row_index'>998</td><td>2020-01-01T00:00:32.842Z</td><td>XBTUSD</td><td>Sell</td><td>1000</td><td>7159.5</td><td>ZeroMinusTick</td><td>c7f62ef1-59cb-8bfb-9725-0fe40a410c88</td><td>13967000</td><td>0.13967</td><td>1000</td></tr>\n",
       "    <tr><td class='row_index'>999</td><td>2020-01-01T00:00:32.842Z</td><td>XBTUSD</td><td>Sell</td><td>1000</td><td>7159.5</td><td>ZeroMinusTick</td><td>7319920d-cd77-a1fd-0d85-b09ef74242a5</td><td>13967000</td><td>0.13967</td><td>1000</td></tr>\n",
       "  </tbody>\n",
       "  </table>\n",
       "  <div class='footer'>\n",
       "    <div class='frame_dimensions'>1000 rows &times; 10 columns</div>\n",
       "  </div>\n",
       "</div>\n"
      ],
      "text/plain": []
     },
     "execution_count": 40,
     "metadata": {},
     "output_type": "execute_result"
    }
   ],
   "source": [
    "dt.fread(\"https://www.bitmex.com/api/v1/trade?symbol=XBT:perpetual&count=1000&start=1000&startTime=2020-01-01%2000:00:00.001&endTime=2020-01-01%2000:01:00.000000&_format=csv\")"
   ]
  },
  {
   "cell_type": "code",
   "execution_count": 44,
   "metadata": {},
   "outputs": [],
   "source": [
    "temp = dt.fread(\"https://www.bitmex.com/api/v1/trade?symbol=XBT:perpetual&count=1000&start=0&startTime=2020-01-01%2000:00:00.001&endTime=2020-01-01%2000:01:00.000000&_format=csv\")"
   ]
  },
  {
   "cell_type": "code",
   "execution_count": 45,
   "metadata": {},
   "outputs": [
    {
     "data": {
      "text/html": [
       "<div class='datatable'>\n",
       "  <table class='frame'>\n",
       "  <thead>\n",
       "    <tr class='colnames'><td class='row_index'></td><th>timestamp</th><th>symbol</th><th>side</th><th>size</th><th>price</th><th>tickDirection</th><th>trdMatchID</th><th>grossValue</th><th>homeNotional</th><th>foreignNotional</th></tr>\n",
       "    <tr class='coltypes'><td class='row_index'></td><td class='str' title='str32'>&#x25AA;&#x25AA;&#x25AA;&#x25AA;</td><td class='str' title='str32'>&#x25AA;&#x25AA;&#x25AA;&#x25AA;</td><td class='str' title='str32'>&#x25AA;&#x25AA;&#x25AA;&#x25AA;</td><td class='int' title='int32'>&#x25AA;&#x25AA;&#x25AA;&#x25AA;</td><td class='real' title='float64'>&#x25AA;&#x25AA;&#x25AA;&#x25AA;&#x25AA;&#x25AA;&#x25AA;&#x25AA;</td><td class='str' title='str32'>&#x25AA;&#x25AA;&#x25AA;&#x25AA;</td><td class='str' title='str32'>&#x25AA;&#x25AA;&#x25AA;&#x25AA;</td><td class='int' title='int32'>&#x25AA;&#x25AA;&#x25AA;&#x25AA;</td><td class='real' title='float64'>&#x25AA;&#x25AA;&#x25AA;&#x25AA;&#x25AA;&#x25AA;&#x25AA;&#x25AA;</td><td class='int' title='int32'>&#x25AA;&#x25AA;&#x25AA;&#x25AA;</td></tr>\n",
       "  </thead>\n",
       "  <tbody>\n",
       "    <tr><td class='row_index'>0</td><td>2020-01-01T00:00:02.780Z</td><td>XBTUSD</td><td>Sell</td><td>12</td><td>7162.5</td><td>MinusTick</td><td>3293e1ae-e0ac-485b-6d6e-2e538b7f5c31</td><td>167544</td><td>0.00167544</td><td>12</td></tr>\n",
       "    <tr><td class='row_index'>1</td><td>2020-01-01T00:00:02.793Z</td><td>XBTUSD</td><td>Sell</td><td>47</td><td>7162.5</td><td>ZeroMinusTick</td><td>876b320d-72b9-02af-283d-43ef6f3f3335</td><td>656214</td><td>0.00656214</td><td>47</td></tr>\n",
       "    <tr><td class='row_index'>2</td><td>2020-01-01T00:00:02.798Z</td><td>XBTUSD</td><td>Sell</td><td>428</td><td>7162.5</td><td>ZeroMinusTick</td><td>ac57aaef-6981-fe5b-e43e-6022cb22454d</td><td>5975736</td><td>0.0597574</td><td>428</td></tr>\n",
       "    <tr><td class='row_index'>3</td><td>2020-01-01T00:00:03.125Z</td><td>XBTUSD</td><td>Buy</td><td>1</td><td>7163</td><td>PlusTick</td><td>6a7f915b-8de9-7c36-0ead-834c85287730</td><td>13961</td><td>0.00013961</td><td>1</td></tr>\n",
       "    <tr><td class='row_index'>4</td><td>2020-01-01T00:00:03.125Z</td><td>XBTUSD</td><td>Buy</td><td>1</td><td>7163</td><td>ZeroPlusTick</td><td>b7c1563e-cda0-79fa-4483-caee6ac9241e</td><td>13961</td><td>0.00013961</td><td>1</td></tr>\n",
       "    <tr><td class='row_index'>5</td><td>2020-01-01T00:00:03.125Z</td><td>XBTUSD</td><td>Buy</td><td>1</td><td>7163</td><td>ZeroPlusTick</td><td>84008a01-4e73-acd1-845c-6ac0eb20c001</td><td>13961</td><td>0.00013961</td><td>1</td></tr>\n",
       "    <tr><td class='row_index'>6</td><td>2020-01-01T00:00:03.125Z</td><td>XBTUSD</td><td>Buy</td><td>1</td><td>7163</td><td>ZeroPlusTick</td><td>696782b9-a91e-b83a-37e7-1dfe9b5304ab</td><td>13961</td><td>0.00013961</td><td>1</td></tr>\n",
       "    <tr><td class='row_index'>7</td><td>2020-01-01T00:00:03.125Z</td><td>XBTUSD</td><td>Buy</td><td>1</td><td>7163</td><td>ZeroPlusTick</td><td>774dc668-4f02-eb96-f767-7d51d2076711</td><td>13961</td><td>0.00013961</td><td>1</td></tr>\n",
       "    <tr><td class='row_index'>8</td><td>2020-01-01T00:00:03.125Z</td><td>XBTUSD</td><td>Buy</td><td>1</td><td>7163</td><td>ZeroPlusTick</td><td>6eb97b31-c310-63d9-dec1-84f5fa4dc46d</td><td>13961</td><td>0.00013961</td><td>1</td></tr>\n",
       "    <tr><td class='row_index'>9</td><td>2020-01-01T00:00:03.125Z</td><td>XBTUSD</td><td>Buy</td><td>1</td><td>7163</td><td>ZeroPlusTick</td><td>25bec7f9-b38d-22f2-296e-d8fcbbc92ebd</td><td>13961</td><td>0.00013961</td><td>1</td></tr>\n",
       "    <tr><td class='row_index'>&#x22EE;</td><td class='hellipsis'>&#x22EE;</td><td class='hellipsis'>&#x22EE;</td><td class='hellipsis'>&#x22EE;</td><td class='hellipsis'>&#x22EE;</td><td class='hellipsis'>&#x22EE;</td><td class='hellipsis'>&#x22EE;</td><td class='hellipsis'>&#x22EE;</td><td class='hellipsis'>&#x22EE;</td><td class='hellipsis'>&#x22EE;</td><td class='hellipsis'>&#x22EE;</td></tr>\n",
       "    <tr><td class='row_index'>995</td><td>2020-01-01T00:00:29.869Z</td><td>XBTUSD</td><td>Sell</td><td>21</td><td>7161.5</td><td>ZeroMinusTick</td><td>8c2e4e20-17d5-eb9d-f8ed-9c0706681138</td><td>293244</td><td>0.00293244</td><td>21</td></tr>\n",
       "    <tr><td class='row_index'>996</td><td>2020-01-01T00:00:29.869Z</td><td>XBTUSD</td><td>Sell</td><td>28</td><td>7161.5</td><td>ZeroMinusTick</td><td>3c674493-52c7-84c6-fad1-36ffde30217d</td><td>390992</td><td>0.00390992</td><td>28</td></tr>\n",
       "    <tr><td class='row_index'>997</td><td>2020-01-01T00:00:29.869Z</td><td>XBTUSD</td><td>Sell</td><td>24</td><td>7161.5</td><td>ZeroMinusTick</td><td>0c338072-2c49-163d-c5f3-9daea81fda10</td><td>335136</td><td>0.00335136</td><td>24</td></tr>\n",
       "    <tr><td class='row_index'>998</td><td>2020-01-01T00:00:29.869Z</td><td>XBTUSD</td><td>Sell</td><td>31</td><td>7161.5</td><td>ZeroMinusTick</td><td>7417eaeb-f214-7b6c-11be-87331011914f</td><td>432884</td><td>0.00432884</td><td>31</td></tr>\n",
       "    <tr><td class='row_index'>999</td><td>2020-01-01T00:00:29.869Z</td><td>XBTUSD</td><td>Sell</td><td>22</td><td>7161.5</td><td>ZeroMinusTick</td><td>34e98a4f-ef1c-7c6c-bda4-ba6b02317c0c</td><td>307208</td><td>0.00307208</td><td>22</td></tr>\n",
       "  </tbody>\n",
       "  </table>\n",
       "  <div class='footer'>\n",
       "    <div class='frame_dimensions'>1000 rows &times; 10 columns</div>\n",
       "  </div>\n",
       "</div>\n"
      ],
      "text/plain": []
     },
     "execution_count": 45,
     "metadata": {},
     "output_type": "execute_result"
    }
   ],
   "source": [
    "temp"
   ]
  },
  {
   "cell_type": "code",
   "execution_count": 47,
   "metadata": {},
   "outputs": [
    {
     "name": "stdout",
     "output_type": "stream",
     "text": [
      "fuck\n"
     ]
    }
   ],
   "source": [
    "remaining = '0'\n",
    "if remaining == '0':\n",
    "    print(\"fuck\")"
   ]
  },
  {
   "cell_type": "code",
   "execution_count": null,
   "metadata": {},
   "outputs": [],
   "source": []
  }
 ],
 "metadata": {
  "kernelspec": {
   "display_name": "Python 3",
   "language": "python",
   "name": "python3"
  },
  "language_info": {
   "codemirror_mode": {
    "name": "ipython",
    "version": 3
   },
   "file_extension": ".py",
   "mimetype": "text/x-python",
   "name": "python",
   "nbconvert_exporter": "python",
   "pygments_lexer": "ipython3",
   "version": "3.6.9"
  }
 },
 "nbformat": 4,
 "nbformat_minor": 4
}
